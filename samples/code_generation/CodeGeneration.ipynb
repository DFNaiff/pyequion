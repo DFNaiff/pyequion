{
 "metadata": {
  "language_info": {
   "codemirror_mode": {
    "name": "ipython",
    "version": 3
   },
   "file_extension": ".py",
   "mimetype": "text/x-python",
   "name": "python",
   "nbconvert_exporter": "python",
   "pygments_lexer": "ipython3",
   "version": "3.6.8-final"
  },
  "orig_nbformat": 2,
  "kernelspec": {
   "name": "python3",
   "display_name": "Python 3"
  }
 },
 "nbformat": 4,
 "nbformat_minor": 2,
 "cells": [
  {
   "source": [
    "import pyequion\n",
    "import sympy\n",
    "%load_ext Cython"
   ],
   "cell_type": "code",
   "metadata": {},
   "execution_count": 1,
   "outputs": []
  },
  {
   "source": [
    "## Create a system and save it to a C file"
   ],
   "cell_type": "markdown",
   "metadata": {}
  },
  {
   "cell_type": "code",
   "execution_count": 2,
   "metadata": {},
   "outputs": [],
   "source": [
    "sys_eq = pyequion.create_equilibrium(['NaHCO3', 'CaCl2'])\n",
    "pyequion.save_res_to_c_code(sys_eq, 'dummy', 'calc_cnv_res_equilibrium_NaHCO3_CaCl2', \n",
    "    # fixed_temperature=25.0\n",
    ")\n"
   ]
  },
  {
   "source": [
    "Check the file system for the created header and source files\n",
    "\n",
    "## Generating Cython module for calling the C code\n",
    "\n",
    "Reference: https://www.sympy.org/scipy-2017-codegen-tutorial/\n",
    "\n",
    "1. Firstly a magic cell is used to create the build configuration file\n",
    "1. Nextly, the cython file that will bridge the python interpreter with the c-function is defined and make it available to python interpreter"
   ],
   "cell_type": "markdown",
   "metadata": {}
  },
  {
   "cell_type": "code",
   "execution_count": 3,
   "metadata": {},
   "outputs": [
    {
     "output_type": "stream",
     "name": "stdout",
     "text": [
      "Writing calc_cnv_res_equilibrium_NaHCO3_CaCl2.pyxbld\n"
     ]
    }
   ],
   "source": [
    "%%writefile calc_cnv_res_equilibrium_NaHCO3_CaCl2.pyxbld\n",
    "import numpy\n",
    "\n",
    "#            module name specified by `%%cython_pyximport` magic\n",
    "#            |        just `modname + \".pyx\"`\n",
    "#            |        |\n",
    "def make_ext(modname, pyxfilename):\n",
    "    from setuptools.extension import Extension\n",
    "    return Extension(modname,\n",
    "                     sources=[pyxfilename, 'calc_cnv_res_equilibrium_NaHCO3_CaCl2.c'],\n",
    "                     include_dirs=['.', numpy.get_include()])"
   ]
  },
  {
   "cell_type": "code",
   "execution_count": 4,
   "metadata": {},
   "outputs": [],
   "source": [
    "%%cython_pyximport calc_cnv_res_equilibrium_NaHCO3_CaCl2\n",
    "import numpy as np\n",
    "cimport numpy as cnp # cimport gives us access to NumPy's C API\n",
    "\n",
    "# here we just replicate the function signature from the header\n",
    "cdef extern from \"calc_cnv_res_equilibrium_NaHCO3_CaCl2.h\":\n",
    "    void calc_cnv_res_equilibrium_NaHCO3_CaCl2(double T, double *concs, double *x, double *res)\n",
    "\n",
    "# here is the \"wrapper\" signature that conforms to the odeint interface\n",
    "def cy_calc_cnv_res_equilibrium_NaHCO3_CaCl2(double T, cnp.ndarray[cnp.double_t, ndim=1] concs, cnp.ndarray[cnp.double_t, ndim=1] x):\n",
    "    # preallocate our output array\n",
    "    cdef cnp.ndarray[cnp.double_t, ndim=1] res = np.empty(x.size, dtype=np.double)\n",
    "    # now call the C function\n",
    "    calc_cnv_res_equilibrium_NaHCO3_CaCl2(<double> T, <double *> concs.data, <double *> x.data, <double *> res.data)\n",
    "    # return the result\n",
    "    return res"
   ]
  },
  {
   "cell_type": "code",
   "execution_count": 5,
   "metadata": {},
   "outputs": [
    {
     "output_type": "execute_result",
     "data": {
      "text/plain": [
       "array([-2.84955833e+02,  7.53626726e+00, -4.94878719e-02,  7.38949034e+02,\n",
       "       -7.22534159e+01, -1.39843274e+00, -1.99624148e+03, -4.83136100e-01,\n",
       "        8.58372158e+02, -8.45007295e+02,  9.99000000e+00,  9.99000000e+00,\n",
       "        4.99500000e+00,  9.99000000e+00, -1.73472348e-18])"
      ]
     },
     "metadata": {},
     "execution_count": 5
    }
   ],
   "source": [
    "sol = pyequion.solve_solution({'NaHCO3': 10, 'CaCl2': 5})\n",
    "cy_calc_cnv_res_equilibrium_NaHCO3_CaCl2(25.0, np.array([10.0, 5.0]), sol.x)"
   ]
  },
  {
   "source": [
    "## Generating C Code for the Jacobian"
   ],
   "cell_type": "markdown",
   "metadata": {}
  },
  {
   "cell_type": "code",
   "execution_count": 3,
   "metadata": {
    "tags": [
     "outputPrepend"
    ]
   },
   "outputs": [
    {
     "output_type": "stream",
     "name": "stdout",
     "text": [
      "                                                                                                                                                                                                                                                                                      -4.60517018598809*10.0**x[6, 0],                                                                                                                                                                                                                                                                                                                                                                                                                                                                                                                                                                                                                                                                                                                                                                                                                                                                                                                                                                                                                                                                                                                                                                                                                                                                                                                                                                                                                                                                                                                                                                                                                                                                                                                                                                                                                                                                                                                                                                                                                                                                                                                                                                                                                                                                                                                                                                                                                                                                                                                                                                                                                                                                                                                                                                                                                                                                                                                                                                                                                                                                                                                                                                                                                                                                                                                                                                                                                                                                                                                                                                                                                                                                                                                                                                                                                                                                                                                                                                                                                                     -2.30258509299405*10.0**x[7, 0],                               0,                               0,                                                                                                                                                                                                                                                                                                                                                                                                                                                                                                                                                                                                                                                                                                                                                                                                                                                                                                                                                                                                                                                                                                                                                                                                                                                                                                                                                                                                                                                                                                                                                                                                                                                                                                                                                                                                                                                                                                                                                                                                                                                                                                                                                                                                                                                                                                                                                                                                                                                                                                                                                                                                                                                                                                                                                                                                                                                                                                                                                                                                                                                                                                                                                                                                                                                                                                                                                                                                                                                                                                                                                                                                                                                                                                                                                                                                                                                                                                                                                                                                                                                   4.60517018598809*10.0**x[10, 0],                                                                                                                                                                                                                                                                                                                                                                                                                                                                                                                                                                                                                                                                                                                                                                                                                                                                                                                                                                                                                                                                                                                                                                                                                                                                                                                                                                                                                                                                                                                                                                                                                                                                                                                                                                                                                                                                                                                                                                                                                                                                                                                                                                                                                                                                                                                                                                                                                                                                                                                                                                                                                                                                                                                                                                                                                                                                                                                                                                                                                                                                                                                                                                                                                                                                                                                                                                                                                                                                                                                                                                                                                                                                                                                                                                                                                                                                                                                                                                                                                                            2.30258509299405*10.0**x[11, 0],                                0,                                                                                                                                                                                                                                                                                                                                                                                                                                                                                                                                                                                                                                                                                                                                                                                                                                                                                                                                                                                                                                                                                                                                                                                                                                                                                                                                                                                                                                                                                                                                                                                                                                                                                                                                                                                                                                                                                                                                                                                                                                                                                                                                                                                                                                                                                                                                                                                                                                                                                                                                                                                                                                                                                                                                                                                                                                                                                                                                                                                                                                                                                                                                                                                                                                                                                                                                                                                                                                                                                                                                                                                                                                                                                                                                                                                                                                                                                                                                                                                                                                                  2.30258509299405*10.0**x[13, 0],                                                                                                                                                                                                                                                                                                                                                                                                                                                                                                                                                                                                                                                                                                                                                                                                                                                                                                                                                                                                                                                                                                                                                                                                                                                                                                                                                                                                                                                                                                                                                                                                                                                                                                                                                                                                                                                                                                                                                                                                                                                                                                                                                                                                                                                                                                                                                                                                                                                                                                                                                                                                                                                                                                                                                                                                                                                                                                                                                                                                                                                                                                                                                                                                                                                                                                                                                                                                                                                                                                                                                                                                                                                                                                                                                                                                                                                                                                                                                                                                                                           -2.30258509299405*10.0**x[14, 0]]]))\n"
     ]
    }
   ],
   "source": [
    "pyequion.save_jacobian_of_res_to_c_code(sys_eq, 'dummy', 'calc_cnv_res_equilibrium_NaHCO3_CaCl2', \n",
    "    # fixed_temperature=25.0\n",
    ")\n"
   ]
  },
  {
   "cell_type": "code",
   "execution_count": 4,
   "metadata": {},
   "outputs": [
    {
     "output_type": "stream",
     "name": "stdout",
     "text": [
      "Overwriting calc_cnv_jac_equilibrium_NaHCO3_CaCl2.pyxbld\n"
     ]
    }
   ],
   "source": [
    "%%writefile calc_cnv_jac_equilibrium_NaHCO3_CaCl2.pyxbld\n",
    "import numpy\n",
    "\n",
    "#            module name specified by `%%cython_pyximport` magic\n",
    "#            |        just `modname + \".pyx\"`\n",
    "#            |        |\n",
    "def make_ext(modname, pyxfilename):\n",
    "    from setuptools.extension import Extension\n",
    "    return Extension(modname,\n",
    "                     sources=[pyxfilename, 'calc_cnv_jac_equilibrium_NaHCO3_CaCl2.c'],\n",
    "                     include_dirs=['.', numpy.get_include()])"
   ]
  },
  {
   "cell_type": "code",
   "execution_count": 8,
   "metadata": {},
   "outputs": [],
   "source": [
    "%%cython_pyximport calc_cnv_jac_equilibrium_NaHCO3_CaCl2\n",
    "import numpy as np\n",
    "cimport numpy as cnp # cimport gives us access to NumPy's C API\n",
    "\n",
    "# here we just replicate the function signature from the header\n",
    "cdef extern from \"calc_cnv_jac_equilibrium_NaHCO3_CaCl2.h\":\n",
    "    void calc_cnv_jac_equilibrium_NaHCO3_CaCl2(double T, double *x, double *res)\n",
    "\n",
    "# here is the \"wrapper\" signature that conforms to the odeint interface\n",
    "def cy_calc_cnv_jac_equilibrium_NaHCO3_CaCl2(double T, cnp.ndarray[cnp.double_t, ndim=1] x):\n",
    "    # preallocate our output array\n",
    "    cdef cnp.ndarray[cnp.double_t, ndim=1] J = np.empty((x.size*x.size), dtype=np.double)\n",
    "    # now call the C function\n",
    "    calc_cnv_jac_equilibrium_NaHCO3_CaCl2(<double> T, <double *> x.data, <double *> J.data)\n",
    "    # return the result\n",
    "\n",
    "    mat_J = J.reshape((x.size, -1))\n",
    "    return mat_J"
   ]
  },
  {
   "cell_type": "code",
   "execution_count": 9,
   "metadata": {},
   "outputs": [],
   "source": [
    "sol = pyequion.solve_solution({'NaHCO3': 10, 'CaCl2': 5})"
   ]
  },
  {
   "cell_type": "code",
   "execution_count": 10,
   "metadata": {},
   "outputs": [
    {
     "output_type": "execute_result",
     "data": {
      "text/plain": [
       "(15, 15)"
      ]
     },
     "metadata": {},
     "execution_count": 10
    }
   ],
   "source": [
    "J = cy_calc_cnv_jac_equilibrium_NaHCO3_CaCl2(25, sol.x)\n",
    "J.shape"
   ]
  },
  {
   "cell_type": "code",
   "execution_count": 16,
   "metadata": {},
   "outputs": [
    {
     "output_type": "execute_result",
     "data": {
      "text/plain": [
       "['NaHCO3',\n",
       " 'OH-',\n",
       " 'H+',\n",
       " 'Na+',\n",
       " 'NaOH',\n",
       " 'HCO3-',\n",
       " 'CO3--',\n",
       " 'NaCO3-',\n",
       " 'Na2CO3',\n",
       " 'CO2',\n",
       " 'Ca++',\n",
       " 'CaOH+',\n",
       " 'CaCO3',\n",
       " 'CaHCO3+',\n",
       " 'Cl-',\n",
       " 'H2O']"
      ]
     },
     "metadata": {},
     "execution_count": 16
    }
   ],
   "source": []
  },
  {
   "cell_type": "code",
   "execution_count": 11,
   "metadata": {},
   "outputs": [
    {
     "output_type": "execute_result",
     "data": {
      "text/plain": [
       "['NaHCO3',\n",
       " 'OH-',\n",
       " 'H+',\n",
       " 'Na+',\n",
       " 'NaOH',\n",
       " 'HCO3-',\n",
       " 'CO3--',\n",
       " 'NaCO3-',\n",
       " 'Na2CO3',\n",
       " 'CO2',\n",
       " 'Ca++',\n",
       " 'CaOH+',\n",
       " 'CaCO3',\n",
       " 'CaHCO3+',\n",
       " 'Cl-',\n",
       " 'H2O']"
      ]
     },
     "metadata": {},
     "execution_count": 11
    }
   ],
   "source": []
  },
  {
   "cell_type": "code",
   "execution_count": null,
   "metadata": {},
   "outputs": [],
   "source": []
  }
 ]
}