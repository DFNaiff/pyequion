{
 "cells": [
  {
   "cell_type": "code",
   "execution_count": 1,
   "metadata": {},
   "outputs": [],
   "source": [
    "import os\n",
    "# os.environ['NUMBA_DISABLE_JIT'] = '1'"
   ]
  },
  {
   "cell_type": "code",
   "execution_count": 2,
   "metadata": {},
   "outputs": [],
   "source": [
    "import pyequion\n",
    "# sol = pyequion.solve_solution({'NaHCO3': 50, 'CaCl2': 10})\n",
    "# pyequion.print_solution(sol)\n",
    "# pyequion.ipython_display_reactions(sol)"
   ]
  },
  {
   "cell_type": "code",
   "execution_count": null,
   "metadata": {},
   "outputs": [],
   "source": []
  },
  {
   "cell_type": "code",
   "execution_count": null,
   "metadata": {},
   "outputs": [],
   "source": [
    "sol = pyequion.solve_solution(\n",
    "    {'NaHCO3': 50, 'CaCl2': 10},\n",
    "#     allow_precipitation=True,\n",
    "#     activity_model_type=pyequion.TypeActivityCalculation('BROMLEY'),\n",
    "#     activity_model_type='PITZER',\n",
    "#     activity_model_type='BROMLEY',\n",
    "#     solid_equilibrium_phases=['Calcite']\n",
    ")\n",
    "pyequion.print_solution(sol)"
   ]
  },
  {
   "cell_type": "code",
   "execution_count": 3,
   "metadata": {},
   "outputs": [],
   "source": [
    "sys_eq = pyequion.create_equilibrium(\n",
    "        feed_compounds=['NaHCO3', 'CaCl2']\n",
    ")"
   ]
  },
  {
   "cell_type": "code",
   "execution_count": null,
   "metadata": {},
   "outputs": [
    {
     "name": "stderr",
     "output_type": "stream",
     "text": [
      "WARNING:root:Allow precipitation is ON and solid phase are not provided.\n",
      "            The software will equilibrate with the phase with higher saturation index.\n",
      "                Is recommended to set the solid phases which should be equilibrated.\n"
     ]
    }
   ],
   "source": [
    "sol = pyequion.solve_solution(\n",
    "    {'NaHCO3': 50, 'CaCl2': 10},\n",
    "    reaction_system=sys_eq,\n",
    "    activity_model_type='BROMLEY',\n",
    "    allow_precipitation=True,\n",
    "#     activity_model_type=pyequion.TypeActivityCalculation('BROMLEY'),\n",
    "#     activity_model_type='PITZER',\n",
    "#     activity_model_type='BROMLEY',\n",
    "#     solid_equilibrium_phases=['Calcite']\n",
    ")\n",
    "pyequion.print_solution(sol)"
   ]
  },
  {
   "cell_type": "markdown",
   "metadata": {},
   "source": [
    "$$\\require{mhchem}$$ "
   ]
  }
 ],
 "metadata": {
  "kernelspec": {
   "display_name": "Python 3",
   "language": "python",
   "name": "python3"
  },
  "language_info": {
   "codemirror_mode": {
    "name": "ipython",
    "version": 3
   },
   "file_extension": ".py",
   "mimetype": "text/x-python",
   "name": "python",
   "nbconvert_exporter": "python",
   "pygments_lexer": "ipython3",
   "version": "3.7.3"
  }
 },
 "nbformat": 4,
 "nbformat_minor": 2
}
