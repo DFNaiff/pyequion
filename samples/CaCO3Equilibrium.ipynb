{
 "cells": [
  {
   "cell_type": "markdown",
   "metadata": {},
   "source": [
    "<b style=\"font-size:3rem\">Tutorial on the Usage of `PyEquIon` for Aqueous Solution</b>\n",
    "\n",
    "`PyEquIon` stands for Python package for Equilibrium calculation of Ionic Solutions. The main features are:\n",
    "\n",
    "- Pure python package: hence it is easy to install in any platform\n",
    "- Calculation of equilibrium of inorganic salts in water solution with precipitation\n",
    "- Automatic determination of reactions\n",
    "- Provides information as: Ionic Strength, pH, Electric Conductivity and the concentrations of each species as well their activity coefficient\n",
    "- A modular approach for the activity coefficient calculation allows the usage of new thermodynamic models\n",
    "- Just in time compilation capabilities with `numba`\n",
    "- Automatic differentiation with `sympy`\n",
    "- Code generation for exporting the residual function for a giving system to other environments: suitable for kinetic simulations\n",
    "- Automatic determination of the mean activity coefficient (often used in comparison with experiments)\n",
    "\n",
    "Its a work in progress and improvements are under the roadmap. Please, inform us if you find any bug or has a functionality suggestion.\n",
    "\n",
    "The development source code is at the Gitlab repository: https://gitlab.com/scaling-group/pyequion .\n",
    "\n",
    "A simplified version is provided with a web based user interface: https://caiofcm.github.io/pyequion-onl/\n",
    "\n",
    "In this example a solution containing CaCO3 in water is considered. \n",
    "\n",
    "Contact: Caio Curitiba Marcellos - caiocuritiba@gmail.com"
   ]
  },
  {
   "cell_type": "markdown",
   "metadata": {},
   "source": [
    "# Setup\n",
    "\n",
    "Loading the pyequion module and setting the Jupyter notebook with the `mhchem` package to render the chemical reactions"
   ]
  },
  {
   "cell_type": "code",
   "execution_count": 1,
   "metadata": {},
   "outputs": [],
   "source": [
    "#%load_ext vscode_debugger_magic\n",
    "#%vscodedebugger"
   ]
  },
  {
   "cell_type": "code",
   "execution_count": 2,
   "metadata": {},
   "outputs": [],
   "source": [
    "%load_ext autoreload\n",
    "%autoreload 2\n",
    "import os\n",
    "os.environ['NUMBA_DISABLE_JIT'] = '1' #REMOVE ME\n",
    "import pyequion\n",
    "import numpy as np\n",
    "from matplotlib import pyplot as plt"
   ]
  },
  {
   "cell_type": "markdown",
   "metadata": {},
   "source": [
    "Loading mhchem module\n",
    "$$\\require{mhchem}$$ "
   ]
  },
  {
   "cell_type": "markdown",
   "metadata": {},
   "source": [
    "# Aqueous CaCO3 equilibrium"
   ]
  },
  {
   "cell_type": "markdown",
   "metadata": {},
   "source": [
    "## Create Equilibrium with CaCO3 only"
   ]
  },
  {
   "cell_type": "code",
   "execution_count": 3,
   "metadata": {},
   "outputs": [],
   "source": [
    "sys_eq = pyequion.create_equilibrium(\n",
    "        feed_compounds=['CaCO3']\n",
    ")"
   ]
  },
  {
   "cell_type": "code",
   "execution_count": 4,
   "metadata": {},
   "outputs": [
    {
     "data": {
      "text/latex": [
       "$\\displaystyle \\ce{ {H2O^{}} <=> {OH^{-}} +{H^{+}}}$"
      ],
      "text/plain": [
       "<IPython.core.display.Math object>"
      ]
     },
     "metadata": {},
     "output_type": "display_data"
    },
    {
     "data": {
      "text/latex": [
       "$\\displaystyle \\ce{ {Ca^{2+}} +{CO3^{2-}} <=> {CaCO3^{}}}$"
      ],
      "text/plain": [
       "<IPython.core.display.Math object>"
      ]
     },
     "metadata": {},
     "output_type": "display_data"
    },
    {
     "data": {
      "text/latex": [
       "$\\displaystyle \\ce{ {Ca^{2+}} +{H2O^{}} <=> {CaOH^{+}} +{H^{+}}}$"
      ],
      "text/plain": [
       "<IPython.core.display.Math object>"
      ]
     },
     "metadata": {},
     "output_type": "display_data"
    },
    {
     "data": {
      "text/latex": [
       "$\\displaystyle \\ce{ {CO3^{2-}} +{H^{+}} <=> {HCO3^{-}}}$"
      ],
      "text/plain": [
       "<IPython.core.display.Math object>"
      ]
     },
     "metadata": {},
     "output_type": "display_data"
    },
    {
     "data": {
      "text/latex": [
       "$\\displaystyle \\ce{ {CO2^{}} +{H2O^{}} <=> {HCO3^{-}} +{H^{+}}}$"
      ],
      "text/plain": [
       "<IPython.core.display.Math object>"
      ]
     },
     "metadata": {},
     "output_type": "display_data"
    },
    {
     "data": {
      "text/latex": [
       "$\\displaystyle \\ce{ {Ca^{2+}} +{HCO3^{-}} <=> {CaHCO3^{+}}}$"
      ],
      "text/plain": [
       "<IPython.core.display.Math object>"
      ]
     },
     "metadata": {},
     "output_type": "display_data"
    }
   ],
   "source": [
    "pyequion.display_reactions(sys_eq)"
   ]
  },
  {
   "cell_type": "code",
   "execution_count": 5,
   "metadata": {},
   "outputs": [],
   "source": [
    "# Deveria aqui tambem mostrar reacoes na fase liquida e na fase solida"
   ]
  },
  {
   "cell_type": "markdown",
   "metadata": {},
   "source": [
    "## Solve the Equilibrium for the aqueous CaCO3"
   ]
  },
  {
   "cell_type": "markdown",
   "metadata": {},
   "source": [
    "### First Approach: solving without using a `EquilibriumSystem`\n",
    "\n",
    "In this case the system will be created each time the function is called."
   ]
  },
  {
   "cell_type": "code",
   "execution_count": 6,
   "metadata": {},
   "outputs": [
    {
     "name": "stdout",
     "output_type": "stream",
     "text": [
      "Solution Results:\n",
      "\tpH = 10.78189\n",
      "\tsc = 917.00200uS/cm\n",
      "\tI = 13.13740mmol/L\n",
      "\tDIC = 10.00000mmol/L\n",
      "Saturation Index:\n",
      "\tCalcite: 3.0697239312816347\n",
      "\tAragonite: 2.9259540838893994\n",
      "\tVaterite: 2.5032924370673353\n",
      "Ionic Activity Product:\n",
      "\tCalcite: 3.889502510365769e-06\n",
      "\tAragonite: 3.889502510365769e-06\n",
      "\tVaterite: 3.889502510365769e-06\n",
      "Precipitation concentration:\n",
      "\tCalcite: 0.0 mM\n",
      "\tAragonite: 0.0 mM\n",
      "\tVaterite: 0.0 mM\n"
     ]
    }
   ],
   "source": [
    "solution = pyequion.solve_solution(\n",
    "        {'CaCO3': 10},\n",
    "        TC=25.0)\n",
    "pyequion.print_solution(solution)"
   ]
  },
  {
   "cell_type": "markdown",
   "metadata": {},
   "source": [
    "### Second Approach: solving using the created `EquilibriumSystem`\n",
    "\n",
    "The step for determining the reactions is not required in this case, as it will use the provided `EquilibriumSystem`. It is the recommended case for further analysis."
   ]
  },
  {
   "cell_type": "code",
   "execution_count": 7,
   "metadata": {},
   "outputs": [
    {
     "name": "stdout",
     "output_type": "stream",
     "text": [
      "Solution Results:\n",
      "\tpH = 10.78189\n",
      "\tsc = 917.00200uS/cm\n",
      "\tI = 13.13740mmol/L\n",
      "\tDIC = 10.00000mmol/L\n",
      "Saturation Index:\n",
      "\tCalcite: 3.0697239312816347\n",
      "\tAragonite: 2.9259540838893994\n",
      "\tVaterite: 2.5032924370673353\n",
      "Ionic Activity Product:\n",
      "\tCalcite: 3.889502510365769e-06\n",
      "\tAragonite: 3.889502510365769e-06\n",
      "\tVaterite: 3.889502510365769e-06\n",
      "Precipitation concentration:\n",
      "\tCalcite: 0.0 mM\n",
      "\tAragonite: 0.0 mM\n",
      "\tVaterite: 0.0 mM\n"
     ]
    }
   ],
   "source": [
    "solution = pyequion.solve_solution(\n",
    "        {'CaCO3': 10},\n",
    "        reaction_system=sys_eq,\n",
    "        TC=25.0)\n",
    "pyequion.print_solution(solution)"
   ]
  },
  {
   "cell_type": "markdown",
   "metadata": {},
   "source": [
    " The equilibrium calculation shows that the aqueous solution is supersaturated (Saturaion Index > 1), hence one can evaluate the equilibrium with the precipitation of Calcite."
   ]
  },
  {
   "cell_type": "markdown",
   "metadata": {},
   "source": [
    "## Equlibrium with the solid phase"
   ]
  },
  {
   "cell_type": "code",
   "execution_count": 8,
   "metadata": {},
   "outputs": [
    {
     "name": "stderr",
     "output_type": "stream",
     "text": [
      "WARNING:root:Allow precipitation is ON and solid phase are not provided.\n",
      "            The software will equilibrate with the phase with higher saturation index.\n",
      "                Is recommended to set the solid phases which should be equilibrated.\n"
     ]
    },
    {
     "name": "stdout",
     "output_type": "stream",
     "text": [
      "Solution Results:\n",
      "\tpH = 9.90679\n",
      "\tsc = 38.53444uS/cm\n",
      "\tI = 0.38562mmol/L\n",
      "\tDIC = 0.12301mmol/L\n",
      "Saturation Index:\n",
      "\tCalcite: 0.0\n",
      "\tAragonite: -0.1437698473922353\n",
      "\tVaterite: -0.5664314942142994\n",
      "Ionic Activity Product:\n",
      "\tCalcite: 3.312608598711612e-09\n",
      "\tAragonite: 3.312608598711612e-09\n",
      "\tVaterite: 3.312608598711612e-09\n",
      "Precipitation concentration:\n",
      "\tCalcite: 9.876986204946162 mM\n",
      "\tAragonite: 0.0 mM\n",
      "\tVaterite: 0.0 mM\n"
     ]
    }
   ],
   "source": [
    "solution = pyequion.solve_solution(\n",
    "        {'CaCO3': 10},\n",
    "        reaction_system=sys_eq,\n",
    "        TC=25.0, allow_precipitation=True)\n",
    "pyequion.print_solution(solution)"
   ]
  },
  {
   "cell_type": "markdown",
   "metadata": {},
   "source": [
    "The calculation shows that calcite will precipitate and can form 9.88 mM of solid. A warning message is thrown to indicate the user that when solid equilibrium is concerned it is necessary caution. In this example the calcium carbonate polymorphs (Calcite, Aragonite and Vaterite) can be formed. However, it is known that in the equilibrium the most stable form is Calcite. \n",
    "\n",
    "The appropriate form to calculate the equilibrium with the solid phase in `PyEquIon` is to pass the solid phases for the equilibrium. When this information is not provided the program forces the equilibrium with the phase with higher Saturation Index, which in the previous case was calcite.\n",
    "\n",
    "In the next example the phase Calcite is explicit defined to force the equilibrium"
   ]
  },
  {
   "cell_type": "code",
   "execution_count": 9,
   "metadata": {},
   "outputs": [
    {
     "name": "stdout",
     "output_type": "stream",
     "text": [
      "Solution Results:\n",
      "\tpH = 9.90679\n",
      "\tsc = 38.53444uS/cm\n",
      "\tI = 0.38562mmol/L\n",
      "\tDIC = 0.12301mmol/L\n",
      "Saturation Index:\n",
      "\tCalcite: 0.0\n",
      "\tAragonite: -0.1437698473922353\n",
      "\tVaterite: -0.5664314942142994\n",
      "Ionic Activity Product:\n",
      "\tCalcite: 3.312608598711612e-09\n",
      "\tAragonite: 3.312608598711612e-09\n",
      "\tVaterite: 3.312608598711612e-09\n",
      "Precipitation concentration:\n",
      "\tCalcite: 9.876986204946162 mM\n",
      "\tAragonite: 0.0 mM\n",
      "\tVaterite: 0.0 mM\n"
     ]
    }
   ],
   "source": [
    "solution = pyequion.solve_solution(\n",
    "        {'CaCO3': 10},\n",
    "        reaction_system=sys_eq,\n",
    "        TC=25.0, allow_precipitation=True,\n",
    "        solid_equilibrium_phases=['Calcite'])\n",
    "pyequion.print_solution(solution)"
   ]
  },
  {
   "cell_type": "markdown",
   "metadata": {},
   "source": [
    "The results are the same as in the former case, as expected and the warning message is suppressed. \n",
    "\n",
    "One can evaluate a \"pseudo-equilibrium\" with other solid phase, for instance if all the calcium carbonate precipitates as Vaterite:"
   ]
  },
  {
   "cell_type": "code",
   "execution_count": 10,
   "metadata": {},
   "outputs": [
    {
     "name": "stdout",
     "output_type": "stream",
     "text": [
      "Solution Results:\n",
      "\tpH = 10.07846\n",
      "\tsc = 64.12184uS/cm\n",
      "\tI = 0.68124mmol/L\n",
      "\tDIC = 0.22246mmol/L\n",
      "Saturation Index:\n",
      "\tCalcite: 0.5664314942142994\n",
      "\tAragonite: 0.4226616468220641\n",
      "\tVaterite: 0.0\n",
      "Ionic Activity Product:\n",
      "\tCalcite: 1.2206794098750213e-08\n",
      "\tAragonite: 1.2206794098750213e-08\n",
      "\tVaterite: 1.2206794098750213e-08\n",
      "Precipitation concentration:\n",
      "\tCalcite: 0.0 mM\n",
      "\tAragonite: 0.0 mM\n",
      "\tVaterite: 9.777538281661505 mM\n"
     ]
    }
   ],
   "source": [
    "solution = pyequion.solve_solution(\n",
    "        {'CaCO3': 10},\n",
    "        reaction_system=sys_eq,\n",
    "        TC=25.0, allow_precipitation=True,\n",
    "        solid_equilibrium_phases=['Vaterite'])\n",
    "pyequion.print_solution(solution)"
   ]
  },
  {
   "cell_type": "markdown",
   "metadata": {},
   "source": [
    "# Adding other Salts"
   ]
  },
  {
   "cell_type": "code",
   "execution_count": 11,
   "metadata": {},
   "outputs": [
    {
     "data": {
      "text/latex": [
       "$\\displaystyle \\ce{ {H2O^{}} <=> {OH^{-}} +{H^{+}}}$"
      ],
      "text/plain": [
       "<IPython.core.display.Math object>"
      ]
     },
     "metadata": {},
     "output_type": "display_data"
    },
    {
     "data": {
      "text/latex": [
       "$\\displaystyle \\ce{ {Ca^{2+}} +{CO3^{2-}} <=> {CaCO3^{}}}$"
      ],
      "text/plain": [
       "<IPython.core.display.Math object>"
      ]
     },
     "metadata": {},
     "output_type": "display_data"
    },
    {
     "data": {
      "text/latex": [
       "$\\displaystyle \\ce{ {Ca^{2+}} +{H2O^{}} <=> {CaOH^{+}} +{H^{+}}}$"
      ],
      "text/plain": [
       "<IPython.core.display.Math object>"
      ]
     },
     "metadata": {},
     "output_type": "display_data"
    },
    {
     "data": {
      "text/latex": [
       "$\\displaystyle \\ce{ {CO3^{2-}} +{H^{+}} <=> {HCO3^{-}}}$"
      ],
      "text/plain": [
       "<IPython.core.display.Math object>"
      ]
     },
     "metadata": {},
     "output_type": "display_data"
    },
    {
     "data": {
      "text/latex": [
       "$\\displaystyle \\ce{ {CO2^{}} +{H2O^{}} <=> {HCO3^{-}} +{H^{+}}}$"
      ],
      "text/plain": [
       "<IPython.core.display.Math object>"
      ]
     },
     "metadata": {},
     "output_type": "display_data"
    },
    {
     "data": {
      "text/latex": [
       "$\\displaystyle \\ce{ {Ca^{2+}} +{HCO3^{-}} <=> {CaHCO3^{+}}}$"
      ],
      "text/plain": [
       "<IPython.core.display.Math object>"
      ]
     },
     "metadata": {},
     "output_type": "display_data"
    },
    {
     "data": {
      "text/latex": [
       "$\\displaystyle \\ce{ {Na^{+}} +{H2O^{}} <=> {NaOH^{}} +{H^{+}}}$"
      ],
      "text/plain": [
       "<IPython.core.display.Math object>"
      ]
     },
     "metadata": {},
     "output_type": "display_data"
    },
    {
     "data": {
      "text/latex": [
       "$\\displaystyle \\ce{ {Na^{+}} +{CO3^{2-}} <=> {NaCO3^{-}}}$"
      ],
      "text/plain": [
       "<IPython.core.display.Math object>"
      ]
     },
     "metadata": {},
     "output_type": "display_data"
    },
    {
     "data": {
      "text/latex": [
       "$\\displaystyle \\ce{ {Na^{+}} +{HCO3^{-}} <=> {NaHCO3^{}}}$"
      ],
      "text/plain": [
       "<IPython.core.display.Math object>"
      ]
     },
     "metadata": {},
     "output_type": "display_data"
    },
    {
     "data": {
      "text/latex": [
       "$\\displaystyle \\ce{ 2{Na^{+}} +{CO3^{2-}} <=> {Na2CO3^{}}}$"
      ],
      "text/plain": [
       "<IPython.core.display.Math object>"
      ]
     },
     "metadata": {},
     "output_type": "display_data"
    },
    {
     "data": {
      "text/latex": [
       "$\\displaystyle \\ce{ {NaCl^{}}->{Na^{+}} +{Cl^{-}}}$"
      ],
      "text/plain": [
       "<IPython.core.display.Math object>"
      ]
     },
     "metadata": {},
     "output_type": "display_data"
    }
   ],
   "source": [
    "sys_eq = pyequion.create_equilibrium(\n",
    "        feed_compounds=['CaCO3', 'NaCl']\n",
    ")\n",
    "pyequion.display_reactions(sys_eq)"
   ]
  },
  {
   "cell_type": "code",
   "execution_count": 12,
   "metadata": {},
   "outputs": [
    {
     "name": "stdout",
     "output_type": "stream",
     "text": [
      "Solution Results:\n",
      "\tpH = 10.76484\n",
      "\tsc = 2207.10199uS/cm\n",
      "\tI = 24.37955mmol/L\n",
      "\tDIC = 10.00000mmol/L\n",
      "Saturation Index:\n",
      "\tCalcite: 3.038878963981862\n",
      "\tAragonite: 2.8951091165896266\n",
      "\tVaterite: 2.4724474697675625\n",
      "\tHalite: -5.714937069355257\n",
      "Ionic Activity Product:\n",
      "\tCalcite: 3.6228394549293544e-06\n",
      "\tAragonite: 3.6228394549293544e-06\n",
      "\tVaterite: 3.6228394549293544e-06\n",
      "\tHalite: 7.162471891780315e-05\n",
      "Precipitation concentration:\n",
      "\tCalcite: 0.0 mM\n",
      "\tAragonite: 0.0 mM\n",
      "\tVaterite: 0.0 mM\n",
      "\tHalite: 0.0 mM\n"
     ]
    }
   ],
   "source": [
    "solution = pyequion.solve_solution(\n",
    "        {'CaCO3': 10, 'NaCl': 10},\n",
    "        reaction_system=sys_eq,\n",
    "        TC=25.0)\n",
    "pyequion.print_solution(solution)"
   ]
  },
  {
   "cell_type": "markdown",
   "metadata": {},
   "source": [
    "## Effects of NaCl in the mean activity Coefficient\n",
    "\n",
    "The mean activity coeffient of a salt is often used for comparison with experimental data.\n",
    "\n",
    "$$\\gamma_{\\pm}=\\left(\\gamma^p_A \\gamma^q_B\\right)^{1/{\\left(p+q\\right)}}$$"
   ]
  },
  {
   "cell_type": "code",
   "execution_count": 13,
   "metadata": {},
   "outputs": [
    {
     "data": {
      "image/png": "[encoded data removed]",
      "text/plain": [
       "<Figure size 432x288 with 1 Axes>"
      ]
     },
     "metadata": {
      "needs_background": "light"
     },
     "output_type": "display_data"
    }
   ],
   "source": [
    "npts = 11\n",
    "nacl_span = np.linspace(1.0, 100.0, npts) #mM of NaCl\n",
    "solutions = [\n",
    "    pyequion.solve_solution(\n",
    "        {'CaCO3': 10, 'NaCl': cNaCl},\n",
    "        reaction_system=sys_eq,\n",
    "        TC=25.0)\n",
    "    for cNaCl in nacl_span\n",
    "]\n",
    "gamma_mean = [pyequion.get_mean_activity_coeff(solution, 'CaCO3') for solution in solutions]\n",
    "plt.figure()\n",
    "plt.plot(nacl_span, gamma_mean)\n",
    "plt.xlabel('NaCl concentration [mM]')\n",
    "plt.ylabel('$\\gamma_{\\pm}$', fontsize=14);"
   ]
  },
  {
   "cell_type": "markdown",
   "metadata": {},
   "source": [
    "##  Effects of NaCl in CaCO3 solubility\n",
    "\n",
    "To calculate the solubility of a salt one can use the argument `calculate_solubility` with a tuple in the form `('solid-phase-name', 'input-salt-name')`. This is a working in progress and for now, the solid phase formula has to match the input salt name. Further tests and validation are necessary for this functionality.\n",
    "\n",
    "The solubility calculation includes the precipitation reaction, but the amount precipitated is zero (aqueous phase saturated with the solid phase). In this case, a feed concentration is no longer fixed and is an unknown that will be obtained by the nonlinear system. This is why in the following function call only the NaCl concentration is provided (if a value for CaCO3 is assigned it will be just ignored)."
   ]
  },
  {
   "cell_type": "code",
   "execution_count": 14,
   "metadata": {},
   "outputs": [
    {
     "name": "stdout",
     "output_type": "stream",
     "text": [
      "Solution Results:\n",
      "\tpH = 9.92006\n",
      "\tsc = 1285.28052uS/cm\n",
      "\tI = 10.49398mmol/L\n",
      "\tDIC = 0.15617mmol/L\n",
      "Saturation Index:\n",
      "\tCalcite: 0.0\n",
      "\tAragonite: -0.1437698473922353\n",
      "\tVaterite: -0.5664314942142994\n",
      "\tHalite: -5.662203698269993\n",
      "Ionic Activity Product:\n",
      "\tCalcite: 3.312608598711612e-09\n",
      "\tAragonite: 3.312608598711612e-09\n",
      "\tVaterite: 3.312608598711612e-09\n",
      "\tHalite: 8.087164958084089e-05\n",
      "Precipitation concentration:\n",
      "\tCalcite: 0.0 mM\n",
      "\tAragonite: 0.0 mM\n",
      "\tVaterite: 0.0 mM\n",
      "\tHalite: 0.0 mM\n",
      "Calculated Solubility (mM): \n",
      "\tCaCO3: 0.1561676037585926\n"
     ]
    }
   ],
   "source": [
    "solution = pyequion.solve_solution(\n",
    "        {'NaCl': 10.0},\n",
    "        reaction_system=sys_eq,\n",
    "        TC=25.0,\n",
    "        calculate_solubility=('Calcite', 'CaCO3')\n",
    "        )\n",
    "pyequion.print_solution(solution, False)"
   ]
  },
  {
   "cell_type": "markdown",
   "metadata": {},
   "source": [
    "Now lets create a chart for the solubility of CaCO3 varying the NaCl concentration:"
   ]
  },
  {
   "cell_type": "code",
   "execution_count": 15,
   "metadata": {},
   "outputs": [],
   "source": [
    "npts = 15\n",
    "nacl_span = np.linspace(1.0, 6000.0, npts) #mM of NaCl\n",
    "solutions = [\n",
    "    pyequion.solve_solution(\n",
    "        {'NaCl': cNaCl},\n",
    "        reaction_system=sys_eq,\n",
    "        TC=25.0,\n",
    "        calculate_solubility=('Calcite', 'CaCO3')\n",
    "        )\n",
    "    for cNaCl in nacl_span\n",
    "]"
   ]
  },
  {
   "cell_type": "markdown",
   "metadata": {},
   "source": [
    "The solutions are calculated and stored in the collection solutions. In the next, we loop through the collection to get the calculated solubility of CaCO3 for each case (interface to be improved)"
   ]
  },
  {
   "cell_type": "code",
   "execution_count": 16,
   "metadata": {},
   "outputs": [
    {
     "data": {
      "image/png": "[encoded data removed]",
      "text/plain": [
       "<Figure size 432x288 with 1 Axes>"
      ]
     },
     "metadata": {
      "needs_background": "light"
     },
     "output_type": "display_data"
    }
   ],
   "source": [
    "solubility = np.array([[*solution.calculated_solubility.values()][0] for solution in solutions])\n",
    "plt.figure()\n",
    "plt.plot(nacl_span, solubility*1e3)\n",
    "plt.xlabel('NaCl concentration [mM]')\n",
    "plt.ylabel('CaCO3 Solubility', fontsize=14);"
   ]
  },
  {
   "cell_type": "markdown",
   "metadata": {},
   "source": [
    "## Comparing closed and open systems\n",
    "\n",
    "In this section, we explain the \"Closing Equation Types\" and apply it to compare the CaCO3 system with atmospheric equilibrium (OPEN) and closed system.\n",
    "\n",
    "There are three `ClosingEquationType`:\n",
    "\n",
    "- NONE: solves the system based on the mass balance using the provided feed components concentrations;\n",
    "- OPEN: uses the atmospheric CO2(g) partial pressure in the equilibrium\n",
    "- CARBON_TOTAL: allows the addition of a extra parameter to vary the total carbon content in the equilibrium. This is useful for evaluate partial equilibrium, for instance when the system is open to the atmosphere but the CO2(g) equilibrium is not reached\n",
    "- PH: to fix a constant PH value (FIXME)\n"
   ]
  },
  {
   "cell_type": "markdown",
   "metadata": {},
   "source": [
    "### Solving for the open system - equilibrium with the atmospheric CO2(g)\n",
    "\n",
    "FIXME: modify to allow setting the partial pressure"
   ]
  },
  {
   "cell_type": "code",
   "execution_count": 17,
   "metadata": {},
   "outputs": [
    {
     "data": {
      "text/latex": [
       "$\\displaystyle \\ce{ {H2O^{}} <=> {OH^{-}} +{H^{+}}}$"
      ],
      "text/plain": [
       "<IPython.core.display.Math object>"
      ]
     },
     "metadata": {},
     "output_type": "display_data"
    },
    {
     "data": {
      "text/latex": [
       "$\\displaystyle \\ce{ {Ca^{2+}} +{CO3^{2-}} <=> {CaCO3^{}}}$"
      ],
      "text/plain": [
       "<IPython.core.display.Math object>"
      ]
     },
     "metadata": {},
     "output_type": "display_data"
    },
    {
     "data": {
      "text/latex": [
       "$\\displaystyle \\ce{ {Ca^{2+}} +{H2O^{}} <=> {CaOH^{+}} +{H^{+}}}$"
      ],
      "text/plain": [
       "<IPython.core.display.Math object>"
      ]
     },
     "metadata": {},
     "output_type": "display_data"
    },
    {
     "data": {
      "text/latex": [
       "$\\displaystyle \\ce{ {CO3^{2-}} +{H^{+}} <=> {HCO3^{-}}}$"
      ],
      "text/plain": [
       "<IPython.core.display.Math object>"
      ]
     },
     "metadata": {},
     "output_type": "display_data"
    },
    {
     "data": {
      "text/latex": [
       "$\\displaystyle \\ce{ {CO2^{}} +{H2O^{}} <=> {HCO3^{-}} +{H^{+}}}$"
      ],
      "text/plain": [
       "<IPython.core.display.Math object>"
      ]
     },
     "metadata": {},
     "output_type": "display_data"
    },
    {
     "data": {
      "text/latex": [
       "$\\displaystyle \\ce{ {CO2(g)^{}} <=> {CO2^{}}}$"
      ],
      "text/plain": [
       "<IPython.core.display.Math object>"
      ]
     },
     "metadata": {},
     "output_type": "display_data"
    },
    {
     "data": {
      "text/latex": [
       "$\\displaystyle \\ce{ {Ca^{2+}} +{HCO3^{-}} <=> {CaHCO3^{+}}}$"
      ],
      "text/plain": [
       "<IPython.core.display.Math object>"
      ]
     },
     "metadata": {},
     "output_type": "display_data"
    }
   ],
   "source": [
    "sys_eq = pyequion.create_equilibrium(\n",
    "        feed_compounds=['CaCO3'],\n",
    "        closing_equation_type=pyequion.ClosingEquationType.OPEN\n",
    ")\n",
    "pyequion.display_reactions(sys_eq)"
   ]
  },
  {
   "cell_type": "code",
   "execution_count": 18,
   "metadata": {},
   "outputs": [
    {
     "name": "stdout",
     "output_type": "stream",
     "text": [
      "Solution Results:\n",
      "\tpH = 9.17483\n",
      "\tsc = 1187.94972uS/cm\n",
      "\tI = 19.20685mmol/L\n",
      "\tDIC = 15.29555mmol/L\n",
      "Saturation Index:\n",
      "\tCalcite: 2.8184345194703866\n",
      "\tAragonite: 2.6746646720781513\n",
      "\tVaterite: 2.252003025256087\n",
      "Ionic Activity Product:\n",
      "\tCalcite: 2.1807437894305804e-06\n",
      "\tAragonite: 2.1807437894305804e-06\n",
      "\tVaterite: 2.1807437894305804e-06\n",
      "Precipitation concentration:\n",
      "\tCalcite: 0.0 mM\n",
      "\tAragonite: 0.0 mM\n",
      "\tVaterite: 0.0 mM\n",
      "Concentrations [mM]:\n",
      "\tCaCO3: 3.6472657930926395 mM\n",
      "\tOH-: 0.017498599285033174 mM\n",
      "\tH+: 7.504652586499817e-07 mM\n",
      "\tCa++: 5.901090003444618 mM\n",
      "\tCaOH+: 0.0009990849367163435 mM\n",
      "\tCO3--: 1.0519325506190607 mM\n",
      "\tHCO3-: 10.13246126029409 mM\n",
      "\tCO2: 0.01324766763740778 mM\n",
      "\tCaHCO3+: 0.4506451185260224 mM\n",
      "\tH2O: 1000.0 mM\n",
      "\tCO2(g): 794.3282347242815 mM\n",
      "Activity Coefficients:\n",
      "\tCaCO3: 1.004432333940079\n",
      "\tOH-: 0.8689597479810582\n",
      "\tH+: 0.8909136333399563\n",
      "\tCa++: 0.592573922122005\n",
      "\tCaOH+: 0.8726233911995992\n",
      "\tCO3--: 0.5928461127583083\n",
      "\tHCO3-: 0.877476499679337\n",
      "\tCO2: 1.004432333940079\n",
      "\tCaHCO3+: 0.8799409563165165\n",
      "\tH2O: 1.004432333940079\n",
      "\tCO2(g): 1.004432333940079\n"
     ]
    }
   ],
   "source": [
    "solutionOPEN = pyequion.solve_solution({'CaCO3': 10}, sys_eq)\n",
    "pyequion.print_solution(solutionOPEN, True)"
   ]
  },
  {
   "cell_type": "markdown",
   "metadata": {},
   "source": [
    "### Solving for the closed system"
   ]
  },
  {
   "cell_type": "code",
   "execution_count": 19,
   "metadata": {},
   "outputs": [
    {
     "data": {
      "text/latex": [
       "$\\displaystyle \\ce{ {H2O^{}} <=> {OH^{-}} +{H^{+}}}$"
      ],
      "text/plain": [
       "<IPython.core.display.Math object>"
      ]
     },
     "metadata": {},
     "output_type": "display_data"
    },
    {
     "data": {
      "text/latex": [
       "$\\displaystyle \\ce{ {Ca^{2+}} +{CO3^{2-}} <=> {CaCO3^{}}}$"
      ],
      "text/plain": [
       "<IPython.core.display.Math object>"
      ]
     },
     "metadata": {},
     "output_type": "display_data"
    },
    {
     "data": {
      "text/latex": [
       "$\\displaystyle \\ce{ {Ca^{2+}} +{H2O^{}} <=> {CaOH^{+}} +{H^{+}}}$"
      ],
      "text/plain": [
       "<IPython.core.display.Math object>"
      ]
     },
     "metadata": {},
     "output_type": "display_data"
    },
    {
     "data": {
      "text/latex": [
       "$\\displaystyle \\ce{ {CO3^{2-}} +{H^{+}} <=> {HCO3^{-}}}$"
      ],
      "text/plain": [
       "<IPython.core.display.Math object>"
      ]
     },
     "metadata": {},
     "output_type": "display_data"
    },
    {
     "data": {
      "text/latex": [
       "$\\displaystyle \\ce{ {CO2^{}} +{H2O^{}} <=> {HCO3^{-}} +{H^{+}}}$"
      ],
      "text/plain": [
       "<IPython.core.display.Math object>"
      ]
     },
     "metadata": {},
     "output_type": "display_data"
    },
    {
     "data": {
      "text/latex": [
       "$\\displaystyle \\ce{ {Ca^{2+}} +{HCO3^{-}} <=> {CaHCO3^{+}}}$"
      ],
      "text/plain": [
       "<IPython.core.display.Math object>"
      ]
     },
     "metadata": {},
     "output_type": "display_data"
    }
   ],
   "source": [
    "sys_eq = pyequion.create_equilibrium(\n",
    "        feed_compounds=['CaCO3'],\n",
    "        closing_equation_type=pyequion.ClosingEquationType.NONE\n",
    ")\n",
    "pyequion.display_reactions(sys_eq)"
   ]
  },
  {
   "cell_type": "code",
   "execution_count": 20,
   "metadata": {},
   "outputs": [
    {
     "name": "stdout",
     "output_type": "stream",
     "text": [
      "Solution Results:\n",
      "\tpH = 10.78189\n",
      "\tsc = 917.00200uS/cm\n",
      "\tI = 13.13740mmol/L\n",
      "\tDIC = 10.00000mmol/L\n",
      "Saturation Index:\n",
      "\tCalcite: 3.0697239312816347\n",
      "\tAragonite: 2.9259540838893994\n",
      "\tVaterite: 2.5032924370673353\n",
      "Ionic Activity Product:\n",
      "\tCalcite: 3.889502510365769e-06\n",
      "\tAragonite: 3.889502510365769e-06\n",
      "\tVaterite: 3.889502510365769e-06\n",
      "Precipitation concentration:\n",
      "\tCalcite: 0.0 mM\n",
      "\tAragonite: 0.0 mM\n",
      "\tVaterite: 0.0 mM\n"
     ]
    }
   ],
   "source": [
    "solutionCLOSED = pyequion.solve_solution({'CaCO3': 10}, sys_eq)\n",
    "pyequion.print_solution(solutionCLOSED)"
   ]
  },
  {
   "cell_type": "markdown",
   "metadata": {},
   "source": [
    "### Solving for a user provided CARBON_TOTAL (in this case is the DIC):\n",
    "\n",
    "With the open system condition, the calculated DIC (total amount of inorganic carbon) is 15.29555 mmol/L, while the total amount of carbon added from the feed is 10 mmol/L. Hence, at open system condition CO2(g) enters in the aqueous solution. \n",
    "\n",
    "Therefore, when the aqueous solution of CaCO3 is prepared it has DIC = 10 mmol/L and letting the solution for sufficient time with contact with the atmosphere the DIC will reach 15.295 mmol/L. One can be interested in predict how the pH will vary during this time.\n",
    "\n",
    "For that, we can vary the `CARBON_TOTAL` from the closed system condition to the open system condition.\n"
   ]
  },
  {
   "cell_type": "code",
   "execution_count": 21,
   "metadata": {},
   "outputs": [
    {
     "data": {
      "text/latex": [
       "$\\displaystyle \\ce{ {H2O^{}} <=> {OH^{-}} +{H^{+}}}$"
      ],
      "text/plain": [
       "<IPython.core.display.Math object>"
      ]
     },
     "metadata": {},
     "output_type": "display_data"
    },
    {
     "data": {
      "text/latex": [
       "$\\displaystyle \\ce{ {Ca^{2+}} +{CO3^{2-}} <=> {CaCO3^{}}}$"
      ],
      "text/plain": [
       "<IPython.core.display.Math object>"
      ]
     },
     "metadata": {},
     "output_type": "display_data"
    },
    {
     "data": {
      "text/latex": [
       "$\\displaystyle \\ce{ {Ca^{2+}} +{H2O^{}} <=> {CaOH^{+}} +{H^{+}}}$"
      ],
      "text/plain": [
       "<IPython.core.display.Math object>"
      ]
     },
     "metadata": {},
     "output_type": "display_data"
    },
    {
     "data": {
      "text/latex": [
       "$\\displaystyle \\ce{ {CO3^{2-}} +{H^{+}} <=> {HCO3^{-}}}$"
      ],
      "text/plain": [
       "<IPython.core.display.Math object>"
      ]
     },
     "metadata": {},
     "output_type": "display_data"
    },
    {
     "data": {
      "text/latex": [
       "$\\displaystyle \\ce{ {CO2^{}} +{H2O^{}} <=> {HCO3^{-}} +{H^{+}}}$"
      ],
      "text/plain": [
       "<IPython.core.display.Math object>"
      ]
     },
     "metadata": {},
     "output_type": "display_data"
    },
    {
     "data": {
      "text/latex": [
       "$\\displaystyle \\ce{ {Ca^{2+}} +{HCO3^{-}} <=> {CaHCO3^{+}}}$"
      ],
      "text/plain": [
       "<IPython.core.display.Math object>"
      ]
     },
     "metadata": {},
     "output_type": "display_data"
    }
   ],
   "source": [
    "sys_eq = pyequion.create_equilibrium(\n",
    "        feed_compounds=['CaCO3'],\n",
    "        closing_equation_type=pyequion.ClosingEquationType.CARBON_TOTAL\n",
    ")\n",
    "pyequion.display_reactions(sys_eq)"
   ]
  },
  {
   "cell_type": "code",
   "execution_count": 22,
   "metadata": {},
   "outputs": [],
   "source": [
    "dicOPEN = solutionOPEN.DIC*1e3\n",
    "dicCLOSED = solutionCLOSED.DIC*1e3\n",
    "npts = 11\n",
    "carbon_total_span = np.linspace(dicCLOSED, dicOPEN, npts)\n",
    "\n",
    "solutions = [\n",
    "    pyequion.solve_solution({'CaCO3': 10}, sys_eq, carbon_total=carb)\n",
    "    for carb in carbon_total_span\n",
    "]"
   ]
  },
  {
   "cell_type": "code",
   "execution_count": 23,
   "metadata": {},
   "outputs": [
    {
     "data": {
      "image/png": "[encoded data removed]",
      "text/plain": [
       "<Figure size 576x432 with 1 Axes>"
      ]
     },
     "metadata": {
      "needs_background": "light"
     },
     "output_type": "display_data"
    }
   ],
   "source": [
    "pH_span = [slt.pH for slt in solutions]\n",
    "plt.figure(figsize=(8,6))\n",
    "plt.plot(carbon_total_span, pH_span, '.-k')\n",
    "plt.xlabel('DIC [mmol/L]', fontsize=14)\n",
    "plt.ylabel('pH', fontsize=14)\n",
    "ylims = plt.ylim()\n",
    "plt.plot([carbon_total_span[0], carbon_total_span[0]], ylims, ':k', label='Closed')\n",
    "plt.plot([carbon_total_span[-1], carbon_total_span[-1]], ylims, '-.k', label='Open')\n",
    "plt.legend();"
   ]
  },
  {
   "cell_type": "markdown",
   "metadata": {},
   "source": [
    "### Comparing amount precipitated in a closed and open system\n",
    "\n",
    "Note that in this use case we are not passing a reaction_sys, hence the function `solve_solution` will create the reaction system before solving the equilibrium."
   ]
  },
  {
   "cell_type": "code",
   "execution_count": 24,
   "metadata": {},
   "outputs": [
    {
     "name": "stdout",
     "output_type": "stream",
     "text": [
      "Solution Results:\n",
      "\tpH = 8.21873\n",
      "\tsc = 104.53823uS/cm\n",
      "\tI = 1.57083mmol/L\n",
      "\tDIC = 1.05684mmol/L\n",
      "Saturation Index:\n",
      "\tCalcite: 0.0\n",
      "\tAragonite: -0.1437698473922353\n",
      "\tVaterite: -0.5664314942142994\n",
      "Ionic Activity Product:\n",
      "\tCalcite: 3.312608598711612e-09\n",
      "\tAragonite: 3.312608598711612e-09\n",
      "\tVaterite: 3.312608598711612e-09\n",
      "Precipitation concentration:\n",
      "\tCalcite: 9.470047419092538 mM\n",
      "\tAragonite: 0.0 mM\n",
      "\tVaterite: 0.0 mM\n"
     ]
    }
   ],
   "source": [
    "solutionOPEN = pyequion.solve_solution({'CaCO3': 10}, allow_precipitation=True,\n",
    "    close_type=pyequion.ClosingEquationType.OPEN,\n",
    "    solid_equilibrium_phases=['Calcite']\n",
    ")\n",
    "pyequion.print_solution(solutionOPEN)"
   ]
  },
  {
   "cell_type": "code",
   "execution_count": 25,
   "metadata": {},
   "outputs": [
    {
     "name": "stdout",
     "output_type": "stream",
     "text": [
      "Solution Results:\n",
      "\tpH = 9.90679\n",
      "\tsc = 38.53444uS/cm\n",
      "\tI = 0.38562mmol/L\n",
      "\tDIC = 0.12301mmol/L\n",
      "Saturation Index:\n",
      "\tCalcite: 0.0\n",
      "\tAragonite: -0.1437698473922353\n",
      "\tVaterite: -0.5664314942142994\n",
      "Ionic Activity Product:\n",
      "\tCalcite: 3.312608598711612e-09\n",
      "\tAragonite: 3.312608598711612e-09\n",
      "\tVaterite: 3.312608598711612e-09\n",
      "Precipitation concentration:\n",
      "\tCalcite: 9.876986204946162 mM\n",
      "\tAragonite: 0.0 mM\n",
      "\tVaterite: 0.0 mM\n"
     ]
    }
   ],
   "source": [
    "solutionCLOSED = pyequion.solve_solution({'CaCO3': 10}, allow_precipitation=True,\n",
    "    close_type=pyequion.ClosingEquationType.NONE,\n",
    "    solid_equilibrium_phases=['Calcite']\n",
    ")\n",
    "pyequion.print_solution(solutionCLOSED)"
   ]
  },
  {
   "cell_type": "code",
   "execution_count": 26,
   "metadata": {},
   "outputs": [
    {
     "name": "stdout",
     "output_type": "stream",
     "text": [
      "\n",
      "    Therefore, for the open system the pH=8.22 and the pH for closed system is 9.91\n",
      "    \n",
      "    At closed system the amount precipitated is slightly higher: calcite(open)/calcite(closed) = 1.21\n",
      "    \n"
     ]
    }
   ],
   "source": [
    "print(f\"\"\"\n",
    "    Therefore, for the open system the pH={solutionOPEN.pH:.2f} and the pH for closed system is {solutionCLOSED.pH:.2f}\n",
    "    \n",
    "    At closed system the amount precipitated is slightly higher: calcite(open)/calcite(closed) = {solutionCLOSED.pH/solutionOPEN.pH:.2f}\n",
    "    \"\"\" )"
   ]
  },
  {
   "cell_type": "markdown",
   "metadata": {},
   "source": [
    "### Manipulating the partial CO2(g) Pressure \n",
    "\n",
    "For that, first create a OPEN equilibrium system and than pass the `co2_partial_pressure` in atm. The default value is the atmospheric CO2(g) pressure"
   ]
  },
  {
   "cell_type": "code",
   "execution_count": 27,
   "metadata": {},
   "outputs": [
    {
     "data": {
      "text/latex": [
       "$\\displaystyle \\ce{ {H2O^{}} <=> {OH^{-}} +{H^{+}}}$"
      ],
      "text/plain": [
       "<IPython.core.display.Math object>"
      ]
     },
     "metadata": {},
     "output_type": "display_data"
    },
    {
     "data": {
      "text/latex": [
       "$\\displaystyle \\ce{ {CO2(g)^{}} <=> {CO2^{}}}$"
      ],
      "text/plain": [
       "<IPython.core.display.Math object>"
      ]
     },
     "metadata": {},
     "output_type": "display_data"
    },
    {
     "data": {
      "text/latex": [
       "$\\displaystyle \\ce{ {CO2^{}} +{H2O^{}} <=> {HCO3^{-}} +{H^{+}}}$"
      ],
      "text/plain": [
       "<IPython.core.display.Math object>"
      ]
     },
     "metadata": {},
     "output_type": "display_data"
    },
    {
     "data": {
      "text/latex": [
       "$\\displaystyle \\ce{ {CO3^{2-}} +{H^{+}} <=> {HCO3^{-}}}$"
      ],
      "text/plain": [
       "<IPython.core.display.Math object>"
      ]
     },
     "metadata": {},
     "output_type": "display_data"
    }
   ],
   "source": [
    "sys_eq = pyequion.create_equilibrium(\n",
    "        feed_compounds=[],\n",
    "        closing_equation_type=pyequion.ClosingEquationType.OPEN,\n",
    ")\n",
    "pyequion.display_reactions(sys_eq)"
   ]
  },
  {
   "cell_type": "code",
   "execution_count": 28,
   "metadata": {},
   "outputs": [
    {
     "name": "stdout",
     "output_type": "stream",
     "text": [
      "Solution Results:\n",
      "\tpH = 5.61352\n",
      "\tsc = 0.96056uS/cm\n",
      "\tI = 0.00244mmol/L\n",
      "\tDIC = 0.01574mmol/L\n",
      "Saturation Index:\n",
      "\t: nan\n",
      "Ionic Activity Product:\n",
      "\t: nan\n",
      "Precipitation concentration:\n",
      "\t: nan mM\n",
      "Concentrations [mM]:\n",
      "\tOH-: 4.164534519198937e-06 mM\n",
      "\tH+: 0.002439333423187577 mM\n",
      "\tCO2: 0.01330634981946581 mM\n",
      "\tHCO3-: 0.0024350745706880456 mM\n",
      "\tCO3--: 4.7158990165386626e-08 mM\n",
      "\tH2O: 1000.0 mM\n",
      "\tCO2(g): 794.3282347242815 mM\n",
      "Activity Coefficients:\n",
      "\tOH-: 0.9981697793552219\n",
      "\tH+: 0.9981749163530294\n",
      "\tCO2: 1.0000005616882943\n",
      "\tHCO3-: 0.9981715572206775\n",
      "\tCO3--: 0.9927062636604492\n",
      "\tH2O: 1.0000005616882943\n",
      "\tCO2(g): 0.00039084006071018747\n"
     ]
    }
   ],
   "source": [
    "# solution = pyequion.solve_solution({'CaCO3': 10}, sys_eq,\n",
    "#    co2_partial_pressure=0.001, \n",
    "#    allow_precipitation=True,\n",
    "#    solid_equilibrium_phases=['Calcite']\n",
    "# )\n",
    "solution = pyequion.solve_solution(None, sys_eq,\n",
    "   co2_partial_pressure=pyequion.pCO2_ref,\n",
    "    fugacity_calculation='pr'\n",
    ")\n",
    "pyequion.print_solution(solution, True)"
   ]
  },
  {
   "cell_type": "code",
   "execution_count": 29,
   "metadata": {},
   "outputs": [],
   "source": [
    "npts = 20\n",
    "pCO2_span = np.linspace(pyequion.pCO2_ref, 250, npts)\n",
    "solutions = [\n",
    "    pyequion.solve_solution(None, sys_eq,\n",
    "        co2_partial_pressure=pCO2,\n",
    "        fugacity_calculation='pr'\n",
    "#        allow_precipitation=True,\n",
    "#        solid_equilibrium_phases=['Calcite']\n",
    "    )\n",
    "    for pCO2 in pCO2_span\n",
    "]"
   ]
  },
  {
   "cell_type": "code",
   "execution_count": 30,
   "metadata": {},
   "outputs": [
    {
     "data": {
      "text/plain": [
       "Text(0, 0.5, 'CO2(g) Solubility')"
      ]
     },
     "execution_count": 30,
     "metadata": {},
     "output_type": "execute_result"
    },
    {
     "data": {
      "image/png": "[encoded data removed]",
      "text/plain": [
       "<Figure size 576x504 with 1 Axes>"
      ]
     },
     "metadata": {
      "needs_background": "light"
     },
     "output_type": "display_data"
    }
   ],
   "source": [
    "co2_molals = [slt.concentrations['CO2'] for slt in solutions]\n",
    "plt.figure(figsize=(8,7))\n",
    "plt.plot(pCO2_span, co2_molals, '.-k')\n",
    "plt.xlabel('Pressure (atm)')\n",
    "plt.ylabel('CO2(g) Solubility')"
   ]
  },
  {
   "cell_type": "markdown",
   "metadata": {},
   "source": [
    "### System with CaCO3 at high Pressure"
   ]
  },
  {
   "cell_type": "code",
   "execution_count": 31,
   "metadata": {},
   "outputs": [
    {
     "data": {
      "text/latex": [
       "$\\displaystyle \\ce{ {H2O^{}} <=> {OH^{-}} +{H^{+}}}$"
      ],
      "text/plain": [
       "<IPython.core.display.Math object>"
      ]
     },
     "metadata": {},
     "output_type": "display_data"
    },
    {
     "data": {
      "text/latex": [
       "$\\displaystyle \\ce{ {Ca^{2+}} +{CO3^{2-}} <=> {CaCO3^{}}}$"
      ],
      "text/plain": [
       "<IPython.core.display.Math object>"
      ]
     },
     "metadata": {},
     "output_type": "display_data"
    },
    {
     "data": {
      "text/latex": [
       "$\\displaystyle \\ce{ {Ca^{2+}} +{H2O^{}} <=> {CaOH^{+}} +{H^{+}}}$"
      ],
      "text/plain": [
       "<IPython.core.display.Math object>"
      ]
     },
     "metadata": {},
     "output_type": "display_data"
    },
    {
     "data": {
      "text/latex": [
       "$\\displaystyle \\ce{ {CO3^{2-}} +{H^{+}} <=> {HCO3^{-}}}$"
      ],
      "text/plain": [
       "<IPython.core.display.Math object>"
      ]
     },
     "metadata": {},
     "output_type": "display_data"
    },
    {
     "data": {
      "text/latex": [
       "$\\displaystyle \\ce{ {CO2^{}} +{H2O^{}} <=> {HCO3^{-}} +{H^{+}}}$"
      ],
      "text/plain": [
       "<IPython.core.display.Math object>"
      ]
     },
     "metadata": {},
     "output_type": "display_data"
    },
    {
     "data": {
      "text/latex": [
       "$\\displaystyle \\ce{ {CO2(g)^{}} <=> {CO2^{}}}$"
      ],
      "text/plain": [
       "<IPython.core.display.Math object>"
      ]
     },
     "metadata": {},
     "output_type": "display_data"
    },
    {
     "data": {
      "text/latex": [
       "$\\displaystyle \\ce{ {Ca^{2+}} +{HCO3^{-}} <=> {CaHCO3^{+}}}$"
      ],
      "text/plain": [
       "<IPython.core.display.Math object>"
      ]
     },
     "metadata": {},
     "output_type": "display_data"
    }
   ],
   "source": [
    "sys_eq = pyequion.create_equilibrium(\n",
    "        feed_compounds=['CaCO3'],\n",
    "        closing_equation_type=pyequion.ClosingEquationType.OPEN,\n",
    ")\n",
    "pyequion.display_reactions(sys_eq)"
   ]
  },
  {
   "cell_type": "code",
   "execution_count": 32,
   "metadata": {},
   "outputs": [],
   "source": [
    "npts = 20\n",
    "# pCO2_span = np.linspace(pyequion.pCO2_ref, 50, npts)\n",
    "pCO2_span = np.linspace(1, 50, npts)\n",
    "solutions = [\n",
    "    pyequion.solve_solution(\n",
    "        {'CaCO3': 10}, sys_eq,\n",
    "        co2_partial_pressure=pCO2,\n",
    "        fugacity_calculation='pr'\n",
    "#        allow_precipitation=True,\n",
    "#        solid_equilibrium_phases=['Calcite']\n",
    "    )\n",
    "    for pCO2 in pCO2_span\n",
    "]"
   ]
  },
  {
   "cell_type": "code",
   "execution_count": 35,
   "metadata": {},
   "outputs": [
    {
     "data": {
      "text/plain": [
       "Text(0, 0.5, 'CO2 Solubility [mM]')"
      ]
     },
     "execution_count": 35,
     "metadata": {},
     "output_type": "execute_result"
    },
    {
     "data": {
      "image/png": "[encoded data removed]",
      "text/plain": [
       "<Figure size 576x504 with 1 Axes>"
      ]
     },
     "metadata": {
      "needs_background": "light"
     },
     "output_type": "display_data"
    }
   ],
   "source": [
    "co2_molals = [slt.concentrations['CO2']*1e3 for slt in solutions]\n",
    "plt.figure(figsize=(8,7))\n",
    "plt.plot(pCO2_span, co2_molals, '.-k')\n",
    "plt.xlabel('Pressure (atm)')\n",
    "plt.ylabel('CO2 Solubility [mM]')"
   ]
  },
  {
   "cell_type": "code",
   "execution_count": 36,
   "metadata": {},
   "outputs": [
    {
     "name": "stdout",
     "output_type": "stream",
     "text": [
      "Solution Results:\n",
      "\tpH = 6.02869\n",
      "\tsc = 1690.74621uS/cm\n",
      "\tI = 27.67031mmol/L\n",
      "\tDIC = 53.63765mmol/L\n",
      "Saturation Index:\n",
      "\tCalcite: 0.07315347851173115\n",
      "\tAragonite: -0.07061636888050415\n",
      "\tVaterite: -0.49327801570256824\n",
      "Ionic Activity Product:\n",
      "\tCalcite: 3.920338822637446e-09\n",
      "\tAragonite: 3.920338822637446e-09\n",
      "\tVaterite: 3.920338822637446e-09\n",
      "Precipitation concentration:\n",
      "\tCalcite: 0.0 mM\n",
      "\tAragonite: 0.0 mM\n",
      "\tVaterite: 0.0 mM\n",
      "Concentrations [mM]:\n",
      "\tCaCO3: 0.006543950816972441 mM\n",
      "\tOH-: 1.2822216869173277e-05 mM\n",
      "\tH+: 0.0010671025531598407 mM\n",
      "\tCa++: 8.837150170577562 mM\n",
      "\tCaOH+: 1.009740772734993e-06 mM\n",
      "\tCO3--: 0.001483490761150718 mM\n",
      "\tHCO3-: 18.82869351857458 mM\n",
      "\tCO2: 33.64462540016819 mM\n",
      "\tCaHCO3+: 1.1563048688646962 mM\n",
      "\tH2O: 1000.0 mM\n",
      "\tCO2(g): 794.3282347242815 mM\n",
      "Activity Coefficients:\n",
      "\tCaCO3: 1.0063916636951127\n",
      "\tOH-: 0.8486814664832565\n",
      "\tH+: 0.8772057974477598\n",
      "\tCa++: 0.5468842837395173\n",
      "\tCaOH+: 0.8539986088018358\n",
      "\tCO3--: 0.5468032402411656\n",
      "\tHCO3-: 0.8599194455548311\n",
      "\tCO2: 1.0063916636951127\n",
      "\tCaHCO3+: 0.8631301021266597\n",
      "\tH2O: 1.0063916636951127\n",
      "\tCO2(g): 0.994540834431937\n"
     ]
    }
   ],
   "source": [
    "pyequion.print_solution(solutions[0], True)"
   ]
  },
  {
   "cell_type": "code",
   "execution_count": 37,
   "metadata": {},
   "outputs": [
    {
     "name": "stdout",
     "output_type": "stream",
     "text": [
      "Solution Results:\n",
      "\tpH = 4.45856\n",
      "\tsc = 1705.56707uS/cm\n",
      "\tI = 27.72040mmol/L\n",
      "\tDIC = 1273.67531mmol/L\n",
      "Saturation Index:\n",
      "\tCalcite: -1.4958672311777068\n",
      "\tAragonite: -1.6396370785699421\n",
      "\tVaterite: -2.062298725392006\n",
      "Ionic Activity Product:\n",
      "\tCalcite: 1.0575548314633079e-10\n",
      "\tAragonite: 1.0575548314633079e-10\n",
      "\tVaterite: 1.0575548314633079e-10\n",
      "Precipitation concentration:\n",
      "\tCalcite: 0.0 mM\n",
      "\tAragonite: 0.0 mM\n",
      "\tVaterite: 0.0 mM\n",
      "Concentrations [mM]:\n",
      "\tCaCO3: 0.00017652828737796982 mM\n",
      "\tOH-: 3.4505543987420176e-07 mM\n",
      "\tH+: 0.039661945188562676 mM\n",
      "\tCa++: 8.840436133333935 mM\n",
      "\tCaOH+: 2.7171311281492066e-08 mM\n",
      "\tCO3--: 4.003750143443735e-05 mM\n",
      "\tHCO3-: 18.879841130176814 mM\n",
      "\tCO2: 1253.635864627619 mM\n",
      "\tCaHCO3+: 1.1593873112073725 mM\n",
      "\tH2O: 1000.0 mM\n",
      "\tCO2(g): 794.3282347242815 mM\n",
      "Activity Coefficients:\n",
      "\tCaCO3: 1.0064032713008693\n",
      "\tOH-: 0.8485757386255468\n",
      "\tH+: 0.8771361256227881\n",
      "\tCa++: 0.5466561772827286\n",
      "\tCaOH+: 0.8539026959855366\n",
      "\tCO3--: 0.5465727496751643\n",
      "\tHCO3-: 0.8598288121042963\n",
      "\tCO2: 1.0064032713008693\n",
      "\tCaHCO3+: 0.8630435689762088\n",
      "\tH2O: 1.0064032713008693\n",
      "\tCO2(g): 37.05811624909936\n"
     ]
    }
   ],
   "source": [
    "pyequion.print_solution(solutions[-1], True)"
   ]
  },
  {
   "cell_type": "markdown",
   "metadata": {},
   "source": [
    "Hence, considering the equlibrium at 50 bar, the despressurization to 1 bar can release:"
   ]
  },
  {
   "cell_type": "code",
   "execution_count": 38,
   "metadata": {},
   "outputs": [
    {
     "name": "stdout",
     "output_type": "stream",
     "text": [
      "Molality of CO2 released from 50 bar to 1 bar: 1219.9912 mM\n"
     ]
    }
   ],
   "source": [
    "sCO2_50bar = solutions[-1].concentrations['CO2']*1e3\n",
    "sCO2_1bar = solutions[0].concentrations['CO2']*1e3\n",
    "delta_CO2_50_to_1 = sCO2_50bar - sCO2_1bar\n",
    "print(f'Molality of CO2 released from 50 bar to 1 bar: {delta_CO2_50_to_1:.4f} mM')"
   ]
  },
  {
   "cell_type": "code",
   "execution_count": 39,
   "metadata": {},
   "outputs": [
    {
     "name": "stdout",
     "output_type": "stream",
     "text": [
      "Solution Results:\n",
      "\tpH = 4.32877\n",
      "\tsc = 1710.56459uS/cm\n",
      "\tI = 27.73310mmol/L\n",
      "\tDIC = 1711.49412mmol/L\n",
      "Saturation Index:\n",
      "\tCalcite: -1.62544029370331\n",
      "\tAragonite: -1.7692101410955452\n",
      "\tVaterite: -2.1918717879176093\n",
      "Ionic Activity Product:\n",
      "\tCalcite: 7.84747301808655e-11\n",
      "\tAragonite: 7.84747301808655e-11\n",
      "\tVaterite: 7.84747301808655e-11\n",
      "Precipitation concentration:\n",
      "\tCalcite: 0.0 mM\n",
      "\tAragonite: 0.0 mM\n",
      "\tVaterite: 0.0 mM\n",
      "Concentrations [mM]:\n",
      "\tCaCO3: 0.0001309905527222509 mM\n",
      "\tOH-: 2.5592363076349487e-07 mM\n",
      "\tH+: 0.05347813187837061 mM\n",
      "\tCa++: 8.839863639332346 mM\n",
      "\tCaOH+: 2.0149149038995873e-08 mM\n",
      "\tCO3--: 2.9717642960302885e-05 mM\n",
      "\tHCO3-: 18.89315108944843 mM\n",
      "\tCO2: 1691.4408012106012 mM\n",
      "\tCaHCO3+: 1.1600053499657876 mM\n",
      "\tH2O: 1000.0 mM\n",
      "\tCO2(g): 794.3282347242815 mM\n",
      "Activity Coefficients:\n",
      "\tCaCO3: 1.0064062158001514\n",
      "\tOH-: 0.8485489410180334\n",
      "\tH+: 0.8771184696037169\n",
      "\tCa++: 0.5465983780788007\n",
      "\tCaOH+: 0.8538783881850801\n",
      "\tCO3--: 0.5465143452499815\n",
      "\tHCO3-: 0.8598058417769454\n",
      "\tCO2: 1.0064062158001514\n",
      "\tCaHCO3+: 0.8630216382407114\n",
      "\tH2O: 1.0064062158001514\n",
      "\tCO2(g): 1.0064062158001514\n"
     ]
    }
   ],
   "source": [
    "slt = pyequion.solve_solution(\n",
    "        {'CaCO3': 10},\n",
    "        close_type=pyequion.ClosingEquationType.OPEN,\n",
    "        co2_partial_pressure=50,\n",
    "        fugacity_calculation='ideal'\n",
    ")\n",
    "pyequion.print_solution(slt, True)"
   ]
  },
  {
   "cell_type": "markdown",
   "metadata": {},
   "source": [
    "## Development for Vapour Equilibrium\n",
    "\n",
    "Halted -- Issue here, double check the phreeqc?"
   ]
  },
  {
   "cell_type": "code",
   "execution_count": null,
   "metadata": {},
   "outputs": [],
   "source": []
  },
  {
   "cell_type": "code",
   "execution_count": 38,
   "metadata": {},
   "outputs": [
    {
     "ename": "TypeError",
     "evalue": "solve_solution() got an unexpected keyword argument 'co2_partial_ressure'",
     "output_type": "error",
     "traceback": [
      "\u001b[0;31m---------------------------------------------------------------------------\u001b[0m",
      "\u001b[0;31mTypeError\u001b[0m                                 Traceback (most recent call last)",
      "\u001b[0;32m<ipython-input-38-9482a16e6fa0>\u001b[0m in \u001b[0;36m<module>\u001b[0;34m\u001b[0m\n\u001b[1;32m      3\u001b[0m    \u001b[0mco2_partial_ressure\u001b[0m\u001b[0;34m=\u001b[0m\u001b[0mATM_PARTIAL_CO2_PRESSURE\u001b[0m\u001b[0;34m,\u001b[0m\u001b[0;34m\u001b[0m\u001b[0;34m\u001b[0m\u001b[0m\n\u001b[1;32m      4\u001b[0m    \u001b[0mallow_precipitation\u001b[0m\u001b[0;34m=\u001b[0m\u001b[0;32mTrue\u001b[0m\u001b[0;34m,\u001b[0m\u001b[0;34m\u001b[0m\u001b[0;34m\u001b[0m\u001b[0m\n\u001b[0;32m----> 5\u001b[0;31m    \u001b[0msolid_equilibrium_phases\u001b[0m\u001b[0;34m=\u001b[0m\u001b[0;34m[\u001b[0m\u001b[0;34m'Calcite'\u001b[0m\u001b[0;34m]\u001b[0m\u001b[0;34m\u001b[0m\u001b[0;34m\u001b[0m\u001b[0m\n\u001b[0m\u001b[1;32m      6\u001b[0m )\n\u001b[1;32m      7\u001b[0m \u001b[0mpyequion\u001b[0m\u001b[0;34m.\u001b[0m\u001b[0mprint_solution\u001b[0m\u001b[0;34m(\u001b[0m\u001b[0msolution\u001b[0m\u001b[0;34m,\u001b[0m \u001b[0;32mTrue\u001b[0m\u001b[0;34m)\u001b[0m\u001b[0;34m\u001b[0m\u001b[0;34m\u001b[0m\u001b[0m\n",
      "\u001b[0;31mTypeError\u001b[0m: solve_solution() got an unexpected keyword argument 'co2_partial_ressure'"
     ]
    }
   ],
   "source": [
    "ATM_PARTIAL_CO2_PRESSURE = 0.0003908408957924021\n",
    "solution = pyequion.solve_solution({'CaCO3': 10}, sys_eq,\n",
    "   co2_partial_ressure=ATM_PARTIAL_CO2_PRESSURE, \n",
    "   allow_precipitation=True,\n",
    "   solid_equilibrium_phases=['Calcite']\n",
    ")\n",
    "pyequion.print_solution(solution, True)"
   ]
  },
  {
   "cell_type": "code",
   "execution_count": null,
   "metadata": {},
   "outputs": [],
   "source": []
  }
 ],
 "metadata": {
  "hide_input": false,
  "kernelspec": {
   "display_name": "Python 3",
   "language": "python",
   "name": "python3"
  },
  "language_info": {
   "codemirror_mode": {
    "name": "ipython",
    "version": 3
   },
   "file_extension": ".py",
   "mimetype": "text/x-python",
   "name": "python",
   "nbconvert_exporter": "python",
   "pygments_lexer": "ipython3",
   "version": "3.7.3"
  },
  "latex_envs": {
   "LaTeX_envs_menu_present": true,
   "autoclose": false,
   "autocomplete": true,
   "bibliofile": "biblio.bib",
   "cite_by": "apalike",
   "current_citInitial": 1,
   "eqLabelWithNumbers": true,
   "eqNumInitial": 1,
   "hotkeys": {
    "equation": "Ctrl-E",
    "itemize": "Ctrl-I"
   },
   "labels_anchors": false,
   "latex_user_defs": false,
   "report_style_numbering": false,
   "user_envs_cfg": false
  },
  "toc": {
   "base_numbering": 1,
   "nav_menu": {},
   "number_sections": true,
   "sideBar": true,
   "skip_h1_title": false,
   "title_cell": "Table of Contents",
   "title_sidebar": "Contents",
   "toc_cell": false,
   "toc_position": {},
   "toc_section_display": true,
   "toc_window_display": true
  }
 },
 "nbformat": 4,
 "nbformat_minor": 2
}
